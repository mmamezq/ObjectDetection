{
 "cells": [
  {
   "cell_type": "code",
   "execution_count": 10,
   "outputs": [
    {
     "name": "stdout",
     "output_type": "stream",
     "text": [
      "Collecting openmim\n",
      "  Using cached openmim-0.3.2-py2.py3-none-any.whl (50 kB)\n",
      "Requirement already satisfied: requests in c:\\users\\monic\\anaconda3\\envs\\objectdetection2\\lib\\site-packages (from openmim) (2.28.1)\n",
      "Requirement already satisfied: colorama in c:\\users\\monic\\anaconda3\\envs\\objectdetection2\\lib\\site-packages (from openmim) (0.4.5)\n",
      "Collecting tabulate\n",
      "  Using cached tabulate-0.9.0-py3-none-any.whl (35 kB)\n",
      "Requirement already satisfied: pip>=19.3 in c:\\users\\monic\\anaconda3\\envs\\objectdetection2\\lib\\site-packages (from openmim) (22.2.2)\n",
      "Collecting pandas\n",
      "  Using cached pandas-1.5.0-cp38-cp38-win_amd64.whl (11.0 MB)\n",
      "Collecting Click\n",
      "  Using cached click-8.1.3-py3-none-any.whl (96 kB)\n",
      "Collecting model-index\n",
      "  Using cached model_index-0.1.11-py3-none-any.whl (34 kB)\n",
      "Collecting rich\n",
      "  Using cached rich-12.6.0-py3-none-any.whl (237 kB)\n",
      "Collecting ordered-set\n",
      "  Using cached ordered_set-4.1.0-py3-none-any.whl (7.6 kB)\n",
      "Collecting markdown\n",
      "  Using cached Markdown-3.4.1-py3-none-any.whl (93 kB)\n",
      "Requirement already satisfied: pyyaml in c:\\users\\monic\\anaconda3\\envs\\objectdetection2\\lib\\site-packages (from model-index->openmim) (6.0)\n",
      "Requirement already satisfied: numpy>=1.20.3 in c:\\users\\monic\\anaconda3\\envs\\objectdetection2\\lib\\site-packages (from pandas->openmim) (1.23.1)\n",
      "Requirement already satisfied: pytz>=2020.1 in c:\\users\\monic\\anaconda3\\envs\\objectdetection2\\lib\\site-packages (from pandas->openmim) (2022.1)\n",
      "Requirement already satisfied: python-dateutil>=2.8.1 in c:\\users\\monic\\anaconda3\\envs\\objectdetection2\\lib\\site-packages (from pandas->openmim) (2.8.2)\n",
      "Requirement already satisfied: certifi>=2017.4.17 in c:\\users\\monic\\anaconda3\\envs\\objectdetection2\\lib\\site-packages (from requests->openmim) (2022.9.24)\n",
      "Requirement already satisfied: idna<4,>=2.5 in c:\\users\\monic\\anaconda3\\envs\\objectdetection2\\lib\\site-packages (from requests->openmim) (3.3)\n",
      "Requirement already satisfied: urllib3<1.27,>=1.21.1 in c:\\users\\monic\\anaconda3\\envs\\objectdetection2\\lib\\site-packages (from requests->openmim) (1.26.11)\n",
      "Requirement already satisfied: charset-normalizer<3,>=2 in c:\\users\\monic\\anaconda3\\envs\\objectdetection2\\lib\\site-packages (from requests->openmim) (2.0.4)\n",
      "Requirement already satisfied: pygments<3.0.0,>=2.6.0 in c:\\users\\monic\\anaconda3\\envs\\objectdetection2\\lib\\site-packages (from rich->openmim) (2.11.2)\n",
      "Requirement already satisfied: typing-extensions<5.0,>=4.0.0 in c:\\users\\monic\\anaconda3\\envs\\objectdetection2\\lib\\site-packages (from rich->openmim) (4.3.0)\n",
      "Collecting commonmark<0.10.0,>=0.9.0\n",
      "  Using cached commonmark-0.9.1-py2.py3-none-any.whl (51 kB)\n",
      "Requirement already satisfied: six>=1.5 in c:\\users\\monic\\anaconda3\\envs\\objectdetection2\\lib\\site-packages (from python-dateutil>=2.8.1->pandas->openmim) (1.16.0)\n",
      "Requirement already satisfied: importlib-metadata>=4.4 in c:\\users\\monic\\anaconda3\\envs\\objectdetection2\\lib\\site-packages (from markdown->model-index->openmim) (4.11.3)\n",
      "Requirement already satisfied: zipp>=0.5 in c:\\users\\monic\\anaconda3\\envs\\objectdetection2\\lib\\site-packages (from importlib-metadata>=4.4->markdown->model-index->openmim) (3.8.0)\n",
      "Installing collected packages: commonmark, tabulate, rich, ordered-set, Click, pandas, markdown, model-index, openmim\n",
      "Successfully installed Click-8.1.3 commonmark-0.9.1 markdown-3.4.1 model-index-0.1.11 openmim-0.3.2 ordered-set-4.1.0 pandas-1.5.0 rich-12.6.0 tabulate-0.9.0\n"
     ]
    },
    {
     "name": "stderr",
     "output_type": "stream",
     "text": [
      "C:\\Users\\monic\\anaconda3\\envs\\ObjectDetection2\\lib\\site-packages\\_distutils_hack\\__init__.py:33: UserWarning: Setuptools is replacing distutils.\n",
      "  warnings.warn(\"Setuptools is replacing distutils.\")\n",
      "Traceback (most recent call last):\n",
      "  File \"C:\\Users\\monic\\anaconda3\\envs\\ObjectDetection2\\lib\\runpy.py\", line 194, in _run_module_as_main\n",
      "    return _run_code(code, main_globals, None,\n",
      "  File \"C:\\Users\\monic\\anaconda3\\envs\\ObjectDetection2\\lib\\runpy.py\", line 87, in _run_code\n",
      "    exec(code, run_globals)\n",
      "  File \"C:\\Users\\monic\\anaconda3\\envs\\ObjectDetection2\\Scripts\\mim.exe\\__main__.py\", line 7, in <module>\n",
      "  File \"C:\\Users\\monic\\anaconda3\\envs\\ObjectDetection2\\lib\\site-packages\\click\\core.py\", line 1130, in __call__\n",
      "    return self.main(*args, **kwargs)\n",
      "  File \"C:\\Users\\monic\\anaconda3\\envs\\ObjectDetection2\\lib\\site-packages\\click\\core.py\", line 1055, in main\n",
      "    rv = self.invoke(ctx)\n",
      "  File \"C:\\Users\\monic\\anaconda3\\envs\\ObjectDetection2\\lib\\site-packages\\click\\core.py\", line 1657, in invoke\n",
      "    return _process_result(sub_ctx.command.invoke(sub_ctx))\n",
      "  File \"C:\\Users\\monic\\anaconda3\\envs\\ObjectDetection2\\lib\\site-packages\\click\\core.py\", line 1404, in invoke\n",
      "    return ctx.invoke(self.callback, **ctx.params)\n",
      "  File \"C:\\Users\\monic\\anaconda3\\envs\\ObjectDetection2\\lib\\site-packages\\click\\core.py\", line 760, in invoke\n",
      "    return __callback(*args, **kwargs)\n",
      "  File \"C:\\Users\\monic\\anaconda3\\envs\\ObjectDetection2\\lib\\site-packages\\mim\\commands\\install.py\", line 72, in cli\n",
      "    exit_code = install(list(args), index_url=index_url, is_yes=is_yes)\n",
      "  File \"C:\\Users\\monic\\anaconda3\\envs\\ObjectDetection2\\lib\\site-packages\\mim\\commands\\install.py\", line 128, in install\n",
      "    install_args += ['-f', get_mmcv_full_find_link(mmcv_base_url)]\n",
      "  File \"C:\\Users\\monic\\anaconda3\\envs\\ObjectDetection2\\lib\\site-packages\\mim\\commands\\install.py\", line 165, in get_mmcv_full_find_link\n",
      "    torch_v, cuda_v = get_torch_cuda_version()\n",
      "  File \"C:\\Users\\monic\\anaconda3\\envs\\ObjectDetection2\\lib\\site-packages\\mim\\utils\\utils.py\", line 332, in get_torch_cuda_version\n",
      "    raise err\n",
      "  File \"C:\\Users\\monic\\anaconda3\\envs\\ObjectDetection2\\lib\\site-packages\\mim\\utils\\utils.py\", line 330, in get_torch_cuda_version\n",
      "    import torch\n",
      "ModuleNotFoundError: No module named 'torch'\n"
     ]
    }
   ],
   "source": [
    "!pip install -U openmim\n",
    "!mim install mmcv-full"
   ],
   "metadata": {
    "collapsed": false,
    "pycharm": {
     "name": "#%%\n"
    }
   }
  },
  {
   "cell_type": "code",
   "execution_count": 1,
   "outputs": [
    {
     "name": "stdout",
     "output_type": "stream",
     "text": [
      "1.12.1+cpu False\n",
      "No CUDA runtime is found, using CUDA_HOME='C:\\Program Files\\NVIDIA GPU Computing Toolkit\\CUDA\\v11.8'\n",
      "2.25.2\n"
     ]
    },
    {
     "ename": "AssertionError",
     "evalue": "active_rotated_filter_forward miss in module _ext",
     "output_type": "error",
     "traceback": [
      "\u001B[1;31m---------------------------------------------------------------------------\u001B[0m",
      "\u001B[1;31mAssertionError\u001B[0m                            Traceback (most recent call last)",
      "Cell \u001B[1;32mIn [1], line 12\u001B[0m\n\u001B[0;32m      7\u001B[0m \u001B[38;5;28mprint\u001B[39m(mmdet\u001B[38;5;241m.\u001B[39m__version__)\n\u001B[0;32m     11\u001B[0m \u001B[38;5;66;03m# Check mmcv installation\u001B[39;00m\n\u001B[1;32m---> 12\u001B[0m \u001B[38;5;28;01mfrom\u001B[39;00m \u001B[38;5;21;01mmmcv_master\u001B[39;00m\u001B[38;5;21;01m.\u001B[39;00m\u001B[38;5;21;01mmmcv\u001B[39;00m\u001B[38;5;21;01m.\u001B[39;00m\u001B[38;5;21;01mops\u001B[39;00m \u001B[38;5;28;01mimport\u001B[39;00m get_compiling_cuda_version\n\u001B[0;32m     13\u001B[0m \u001B[38;5;28;01mfrom\u001B[39;00m \u001B[38;5;21;01mmmcv_master\u001B[39;00m\u001B[38;5;21;01m.\u001B[39;00m\u001B[38;5;21;01mmmcv\u001B[39;00m\u001B[38;5;21;01m.\u001B[39;00m\u001B[38;5;21;01mops\u001B[39;00m \u001B[38;5;28;01mimport\u001B[39;00m get_compiler_version\n\u001B[0;32m     15\u001B[0m \u001B[38;5;28mprint\u001B[39m(get_compiling_cuda_version())\n",
      "File \u001B[1;32m~\\PycharmProjects\\ObjectDetection2\\mmcv_master\\mmcv\\ops\\__init__.py:2\u001B[0m\n\u001B[0;32m      1\u001B[0m \u001B[38;5;66;03m# Copyright (c) OpenMMLab. All rights reserved.\u001B[39;00m\n\u001B[1;32m----> 2\u001B[0m \u001B[38;5;28;01mfrom\u001B[39;00m \u001B[38;5;21;01m.\u001B[39;00m\u001B[38;5;21;01mactive_rotated_filter\u001B[39;00m \u001B[38;5;28;01mimport\u001B[39;00m active_rotated_filter\n\u001B[0;32m      3\u001B[0m \u001B[38;5;28;01mfrom\u001B[39;00m \u001B[38;5;21;01m.\u001B[39;00m\u001B[38;5;21;01massign_score_withk\u001B[39;00m \u001B[38;5;28;01mimport\u001B[39;00m assign_score_withk\n\u001B[0;32m      4\u001B[0m \u001B[38;5;28;01mfrom\u001B[39;00m \u001B[38;5;21;01m.\u001B[39;00m\u001B[38;5;21;01mball_query\u001B[39;00m \u001B[38;5;28;01mimport\u001B[39;00m ball_query\n",
      "File \u001B[1;32m~\\PycharmProjects\\ObjectDetection2\\mmcv_master\\mmcv\\ops\\active_rotated_filter.py:10\u001B[0m\n\u001B[0;32m      6\u001B[0m \u001B[38;5;28;01mfrom\u001B[39;00m \u001B[38;5;21;01mtorch\u001B[39;00m\u001B[38;5;21;01m.\u001B[39;00m\u001B[38;5;21;01mautograd\u001B[39;00m\u001B[38;5;21;01m.\u001B[39;00m\u001B[38;5;21;01mfunction\u001B[39;00m \u001B[38;5;28;01mimport\u001B[39;00m once_differentiable\n\u001B[0;32m      8\u001B[0m \u001B[38;5;28;01mfrom\u001B[39;00m \u001B[38;5;21;01m.\u001B[39;00m\u001B[38;5;21;01m.\u001B[39;00m\u001B[38;5;21;01mutils\u001B[39;00m \u001B[38;5;28;01mimport\u001B[39;00m ext_loader\n\u001B[1;32m---> 10\u001B[0m ext_module \u001B[38;5;241m=\u001B[39m \u001B[43mext_loader\u001B[49m\u001B[38;5;241;43m.\u001B[39;49m\u001B[43mload_ext\u001B[49m\u001B[43m(\u001B[49m\n\u001B[0;32m     11\u001B[0m \u001B[43m    \u001B[49m\u001B[38;5;124;43m'\u001B[39;49m\u001B[38;5;124;43m_ext\u001B[39;49m\u001B[38;5;124;43m'\u001B[39;49m\u001B[43m,\u001B[49m\n\u001B[0;32m     12\u001B[0m \u001B[43m    \u001B[49m\u001B[43m[\u001B[49m\u001B[38;5;124;43m'\u001B[39;49m\u001B[38;5;124;43mactive_rotated_filter_forward\u001B[39;49m\u001B[38;5;124;43m'\u001B[39;49m\u001B[43m,\u001B[49m\u001B[43m \u001B[49m\u001B[38;5;124;43m'\u001B[39;49m\u001B[38;5;124;43mactive_rotated_filter_backward\u001B[39;49m\u001B[38;5;124;43m'\u001B[39;49m\u001B[43m]\u001B[49m\u001B[43m)\u001B[49m\n\u001B[0;32m     15\u001B[0m \u001B[38;5;28;01mclass\u001B[39;00m \u001B[38;5;21;01mActiveRotatedFilterFunction\u001B[39;00m(Function):\n\u001B[0;32m     16\u001B[0m     \u001B[38;5;124;03m\"\"\"Encoding the orientation information and generating orientation-\u001B[39;00m\n\u001B[0;32m     17\u001B[0m \u001B[38;5;124;03m    sensitive features.\u001B[39;00m\n\u001B[0;32m     18\u001B[0m \n\u001B[0;32m     19\u001B[0m \u001B[38;5;124;03m    The details are described in the paper `Align Deep Features for Oriented\u001B[39;00m\n\u001B[0;32m     20\u001B[0m \u001B[38;5;124;03m    Object Detection  <https://arxiv.org/abs/2008.09397>_`.\u001B[39;00m\n\u001B[0;32m     21\u001B[0m \u001B[38;5;124;03m    \"\"\"\u001B[39;00m\n",
      "File \u001B[1;32m~\\PycharmProjects\\ObjectDetection2\\mmcv_master\\mmcv\\utils\\ext_loader.py:15\u001B[0m, in \u001B[0;36mload_ext\u001B[1;34m(name, funcs)\u001B[0m\n\u001B[0;32m     13\u001B[0m ext \u001B[38;5;241m=\u001B[39m importlib\u001B[38;5;241m.\u001B[39mimport_module(\u001B[38;5;124m'\u001B[39m\u001B[38;5;124mmmcv.\u001B[39m\u001B[38;5;124m'\u001B[39m \u001B[38;5;241m+\u001B[39m name)\n\u001B[0;32m     14\u001B[0m \u001B[38;5;28;01mfor\u001B[39;00m fun \u001B[38;5;129;01min\u001B[39;00m funcs:\n\u001B[1;32m---> 15\u001B[0m     \u001B[38;5;28;01massert\u001B[39;00m \u001B[38;5;28mhasattr\u001B[39m(ext, fun), \u001B[38;5;124mf\u001B[39m\u001B[38;5;124m'\u001B[39m\u001B[38;5;132;01m{\u001B[39;00mfun\u001B[38;5;132;01m}\u001B[39;00m\u001B[38;5;124m miss in module \u001B[39m\u001B[38;5;132;01m{\u001B[39;00mname\u001B[38;5;132;01m}\u001B[39;00m\u001B[38;5;124m'\u001B[39m\n\u001B[0;32m     16\u001B[0m \u001B[38;5;28;01mreturn\u001B[39;00m ext\n",
      "\u001B[1;31mAssertionError\u001B[0m: active_rotated_filter_forward miss in module _ext"
     ]
    }
   ],
   "source": [
    "# Check Pytorch installation\n",
    "import torch, torchvision\n",
    "print(torch.__version__, torch.cuda.is_available())\n",
    "\n",
    "# Check MMDetection installation\n",
    "import mmdetection.mmdet as mmdet\n",
    "print(mmdet.__version__)\n",
    "\n",
    "\n",
    "\n",
    "# Check mmcv installation\n",
    "from mmcv_master.mmcv.ops import get_compiling_cuda_version\n",
    "from mmcv_master.mmcv.ops import get_compiler_version\n",
    "\n",
    "print(get_compiling_cuda_version())\n",
    "print(get_compiler_version())"
   ],
   "metadata": {
    "collapsed": false,
    "pycharm": {
     "name": "#%%\n"
    }
   }
  },
  {
   "cell_type": "code",
   "execution_count": 16,
   "outputs": [
    {
     "ename": "AssertionError",
     "evalue": "active_rotated_filter_forward miss in module _ext",
     "output_type": "error",
     "traceback": [
      "\u001B[1;31m---------------------------------------------------------------------------\u001B[0m",
      "\u001B[1;31mAssertionError\u001B[0m                            Traceback (most recent call last)",
      "Cell \u001B[1;32mIn [16], line 3\u001B[0m\n\u001B[0;32m      1\u001B[0m \u001B[38;5;28;01mimport\u001B[39;00m \u001B[38;5;21;01mmmcv\u001B[39;00m\n\u001B[0;32m      2\u001B[0m \u001B[38;5;28;01mfrom\u001B[39;00m \u001B[38;5;21;01mmmcv\u001B[39;00m\u001B[38;5;21;01m.\u001B[39;00m\u001B[38;5;21;01mrunner\u001B[39;00m \u001B[38;5;28;01mimport\u001B[39;00m load_checkpoint\n\u001B[1;32m----> 3\u001B[0m \u001B[38;5;28;01mfrom\u001B[39;00m \u001B[38;5;21;01mmmdetection\u001B[39;00m\u001B[38;5;21;01m.\u001B[39;00m\u001B[38;5;21;01mmmdet\u001B[39;00m\u001B[38;5;21;01m.\u001B[39;00m\u001B[38;5;21;01mmodels\u001B[39;00m \u001B[38;5;28;01mimport\u001B[39;00m build_detector\n\u001B[0;32m      5\u001B[0m \u001B[38;5;66;03m# Choose to use a config and initialize the detector\u001B[39;00m\n\u001B[0;32m      6\u001B[0m config \u001B[38;5;241m=\u001B[39m \u001B[38;5;124m'\u001B[39m\u001B[38;5;124m./mmdetection/configs/faster_rcnn/faster_rcnn_r50_caffe_fpn_mstrain_3x_coco.py\u001B[39m\u001B[38;5;124m'\u001B[39m\n",
      "File \u001B[1;32m~\\PycharmProjects\\ObjectDetection2\\mmdetection\\mmdet\\models\\__init__.py:2\u001B[0m\n\u001B[0;32m      1\u001B[0m \u001B[38;5;66;03m# Copyright (c) OpenMMLab. All rights reserved.\u001B[39;00m\n\u001B[1;32m----> 2\u001B[0m \u001B[38;5;28;01mfrom\u001B[39;00m \u001B[38;5;21;01m.\u001B[39;00m\u001B[38;5;21;01mbackbones\u001B[39;00m \u001B[38;5;28;01mimport\u001B[39;00m \u001B[38;5;241m*\u001B[39m  \u001B[38;5;66;03m# noqa: F401,F403\u001B[39;00m\n\u001B[0;32m      3\u001B[0m \u001B[38;5;28;01mfrom\u001B[39;00m \u001B[38;5;21;01m.\u001B[39;00m\u001B[38;5;21;01mbuilder\u001B[39;00m \u001B[38;5;28;01mimport\u001B[39;00m (BACKBONES, DETECTORS, HEADS, LOSSES, NECKS,\n\u001B[0;32m      4\u001B[0m                       ROI_EXTRACTORS, SHARED_HEADS, build_backbone,\n\u001B[0;32m      5\u001B[0m                       build_detector, build_head, build_loss, build_neck,\n\u001B[0;32m      6\u001B[0m                       build_roi_extractor, build_shared_head)\n\u001B[0;32m      7\u001B[0m \u001B[38;5;28;01mfrom\u001B[39;00m \u001B[38;5;21;01m.\u001B[39;00m\u001B[38;5;21;01mdense_heads\u001B[39;00m \u001B[38;5;28;01mimport\u001B[39;00m \u001B[38;5;241m*\u001B[39m  \u001B[38;5;66;03m# noqa: F401,F403\u001B[39;00m\n",
      "File \u001B[1;32m~\\PycharmProjects\\ObjectDetection2\\mmdetection\\mmdet\\models\\backbones\\__init__.py:2\u001B[0m\n\u001B[0;32m      1\u001B[0m \u001B[38;5;66;03m# Copyright (c) OpenMMLab. All rights reserved.\u001B[39;00m\n\u001B[1;32m----> 2\u001B[0m \u001B[38;5;28;01mfrom\u001B[39;00m \u001B[38;5;21;01m.\u001B[39;00m\u001B[38;5;21;01mcsp_darknet\u001B[39;00m \u001B[38;5;28;01mimport\u001B[39;00m CSPDarknet\n\u001B[0;32m      3\u001B[0m \u001B[38;5;28;01mfrom\u001B[39;00m \u001B[38;5;21;01m.\u001B[39;00m\u001B[38;5;21;01mdarknet\u001B[39;00m \u001B[38;5;28;01mimport\u001B[39;00m Darknet\n\u001B[0;32m      4\u001B[0m \u001B[38;5;28;01mfrom\u001B[39;00m \u001B[38;5;21;01m.\u001B[39;00m\u001B[38;5;21;01mdetectors_resnet\u001B[39;00m \u001B[38;5;28;01mimport\u001B[39;00m DetectoRS_ResNet\n",
      "File \u001B[1;32m~\\PycharmProjects\\ObjectDetection2\\mmdetection\\mmdet\\models\\backbones\\csp_darknet.py:11\u001B[0m\n\u001B[0;32m      8\u001B[0m \u001B[38;5;28;01mfrom\u001B[39;00m \u001B[38;5;21;01mtorch\u001B[39;00m\u001B[38;5;21;01m.\u001B[39;00m\u001B[38;5;21;01mnn\u001B[39;00m\u001B[38;5;21;01m.\u001B[39;00m\u001B[38;5;21;01mmodules\u001B[39;00m\u001B[38;5;21;01m.\u001B[39;00m\u001B[38;5;21;01mbatchnorm\u001B[39;00m \u001B[38;5;28;01mimport\u001B[39;00m _BatchNorm\n\u001B[0;32m     10\u001B[0m \u001B[38;5;28;01mfrom\u001B[39;00m \u001B[38;5;21;01m.\u001B[39;00m\u001B[38;5;21;01m.\u001B[39;00m\u001B[38;5;21;01mbuilder\u001B[39;00m \u001B[38;5;28;01mimport\u001B[39;00m BACKBONES\n\u001B[1;32m---> 11\u001B[0m \u001B[38;5;28;01mfrom\u001B[39;00m \u001B[38;5;21;01m.\u001B[39;00m\u001B[38;5;21;01m.\u001B[39;00m\u001B[38;5;21;01mutils\u001B[39;00m \u001B[38;5;28;01mimport\u001B[39;00m CSPLayer\n\u001B[0;32m     14\u001B[0m \u001B[38;5;28;01mclass\u001B[39;00m \u001B[38;5;21;01mFocus\u001B[39;00m(nn\u001B[38;5;241m.\u001B[39mModule):\n\u001B[0;32m     15\u001B[0m     \u001B[38;5;124;03m\"\"\"Focus width and height information into channel space.\u001B[39;00m\n\u001B[0;32m     16\u001B[0m \n\u001B[0;32m     17\u001B[0m \u001B[38;5;124;03m    Args:\u001B[39;00m\n\u001B[1;32m   (...)\u001B[0m\n\u001B[0;32m     27\u001B[0m \u001B[38;5;124;03m            Default: dict(type='Swish').\u001B[39;00m\n\u001B[0;32m     28\u001B[0m \u001B[38;5;124;03m    \"\"\"\u001B[39;00m\n",
      "File \u001B[1;32m~\\PycharmProjects\\ObjectDetection2\\mmdetection\\mmdet\\models\\utils\\__init__.py:13\u001B[0m\n\u001B[0;32m     11\u001B[0m \u001B[38;5;28;01mfrom\u001B[39;00m \u001B[38;5;21;01m.\u001B[39;00m\u001B[38;5;21;01mnormed_predictor\u001B[39;00m \u001B[38;5;28;01mimport\u001B[39;00m NormedConv2d, NormedLinear\n\u001B[0;32m     12\u001B[0m \u001B[38;5;28;01mfrom\u001B[39;00m \u001B[38;5;21;01m.\u001B[39;00m\u001B[38;5;21;01mpanoptic_gt_processing\u001B[39;00m \u001B[38;5;28;01mimport\u001B[39;00m preprocess_panoptic_gt\n\u001B[1;32m---> 13\u001B[0m \u001B[38;5;28;01mfrom\u001B[39;00m \u001B[38;5;21;01m.\u001B[39;00m\u001B[38;5;21;01mpoint_sample\u001B[39;00m \u001B[38;5;28;01mimport\u001B[39;00m (get_uncertain_point_coords_with_randomness,\n\u001B[0;32m     14\u001B[0m                            get_uncertainty)\n\u001B[0;32m     15\u001B[0m \u001B[38;5;28;01mfrom\u001B[39;00m \u001B[38;5;21;01m.\u001B[39;00m\u001B[38;5;21;01mpositional_encoding\u001B[39;00m \u001B[38;5;28;01mimport\u001B[39;00m (LearnedPositionalEncoding,\n\u001B[0;32m     16\u001B[0m                                   SinePositionalEncoding)\n\u001B[0;32m     17\u001B[0m \u001B[38;5;28;01mfrom\u001B[39;00m \u001B[38;5;21;01m.\u001B[39;00m\u001B[38;5;21;01mres_layer\u001B[39;00m \u001B[38;5;28;01mimport\u001B[39;00m ResLayer, SimplifiedBasicBlock\n",
      "File \u001B[1;32m~\\PycharmProjects\\ObjectDetection2\\mmdetection\\mmdet\\models\\utils\\point_sample.py:3\u001B[0m\n\u001B[0;32m      1\u001B[0m \u001B[38;5;66;03m# Copyright (c) OpenMMLab. All rights reserved.\u001B[39;00m\n\u001B[0;32m      2\u001B[0m \u001B[38;5;28;01mimport\u001B[39;00m \u001B[38;5;21;01mtorch\u001B[39;00m\n\u001B[1;32m----> 3\u001B[0m \u001B[38;5;28;01mfrom\u001B[39;00m \u001B[38;5;21;01mmmcv\u001B[39;00m\u001B[38;5;21;01m.\u001B[39;00m\u001B[38;5;21;01mops\u001B[39;00m \u001B[38;5;28;01mimport\u001B[39;00m point_sample\n\u001B[0;32m      6\u001B[0m \u001B[38;5;28;01mdef\u001B[39;00m \u001B[38;5;21mget_uncertainty\u001B[39m(mask_pred, labels):\n\u001B[0;32m      7\u001B[0m     \u001B[38;5;124;03m\"\"\"Estimate uncertainty based on pred logits.\u001B[39;00m\n\u001B[0;32m      8\u001B[0m \n\u001B[0;32m      9\u001B[0m \u001B[38;5;124;03m    We estimate uncertainty as L1 distance between 0.0 and the logits\u001B[39;00m\n\u001B[1;32m   (...)\u001B[0m\n\u001B[0;32m     22\u001B[0m \u001B[38;5;124;03m            shape (num_rois, 1, mask_height, mask_width)\u001B[39;00m\n\u001B[0;32m     23\u001B[0m \u001B[38;5;124;03m    \"\"\"\u001B[39;00m\n",
      "File \u001B[1;32m~\\PycharmProjects\\ObjectDetection2\\venv\\lib\\site-packages\\mmcv\\ops\\__init__.py:2\u001B[0m\n\u001B[0;32m      1\u001B[0m \u001B[38;5;66;03m# Copyright (c) OpenMMLab. All rights reserved.\u001B[39;00m\n\u001B[1;32m----> 2\u001B[0m \u001B[38;5;28;01mfrom\u001B[39;00m \u001B[38;5;21;01m.\u001B[39;00m\u001B[38;5;21;01mactive_rotated_filter\u001B[39;00m \u001B[38;5;28;01mimport\u001B[39;00m active_rotated_filter\n\u001B[0;32m      3\u001B[0m \u001B[38;5;28;01mfrom\u001B[39;00m \u001B[38;5;21;01m.\u001B[39;00m\u001B[38;5;21;01massign_score_withk\u001B[39;00m \u001B[38;5;28;01mimport\u001B[39;00m assign_score_withk\n\u001B[0;32m      4\u001B[0m \u001B[38;5;28;01mfrom\u001B[39;00m \u001B[38;5;21;01m.\u001B[39;00m\u001B[38;5;21;01mball_query\u001B[39;00m \u001B[38;5;28;01mimport\u001B[39;00m ball_query\n",
      "File \u001B[1;32m~\\PycharmProjects\\ObjectDetection2\\venv\\lib\\site-packages\\mmcv\\ops\\active_rotated_filter.py:10\u001B[0m\n\u001B[0;32m      6\u001B[0m \u001B[38;5;28;01mfrom\u001B[39;00m \u001B[38;5;21;01mtorch\u001B[39;00m\u001B[38;5;21;01m.\u001B[39;00m\u001B[38;5;21;01mautograd\u001B[39;00m\u001B[38;5;21;01m.\u001B[39;00m\u001B[38;5;21;01mfunction\u001B[39;00m \u001B[38;5;28;01mimport\u001B[39;00m once_differentiable\n\u001B[0;32m      8\u001B[0m \u001B[38;5;28;01mfrom\u001B[39;00m \u001B[38;5;21;01m.\u001B[39;00m\u001B[38;5;21;01m.\u001B[39;00m\u001B[38;5;21;01mutils\u001B[39;00m \u001B[38;5;28;01mimport\u001B[39;00m ext_loader\n\u001B[1;32m---> 10\u001B[0m ext_module \u001B[38;5;241m=\u001B[39m \u001B[43mext_loader\u001B[49m\u001B[38;5;241;43m.\u001B[39;49m\u001B[43mload_ext\u001B[49m\u001B[43m(\u001B[49m\n\u001B[0;32m     11\u001B[0m \u001B[43m    \u001B[49m\u001B[38;5;124;43m'\u001B[39;49m\u001B[38;5;124;43m_ext\u001B[39;49m\u001B[38;5;124;43m'\u001B[39;49m\u001B[43m,\u001B[49m\n\u001B[0;32m     12\u001B[0m \u001B[43m    \u001B[49m\u001B[43m[\u001B[49m\u001B[38;5;124;43m'\u001B[39;49m\u001B[38;5;124;43mactive_rotated_filter_forward\u001B[39;49m\u001B[38;5;124;43m'\u001B[39;49m\u001B[43m,\u001B[49m\u001B[43m \u001B[49m\u001B[38;5;124;43m'\u001B[39;49m\u001B[38;5;124;43mactive_rotated_filter_backward\u001B[39;49m\u001B[38;5;124;43m'\u001B[39;49m\u001B[43m]\u001B[49m\u001B[43m)\u001B[49m\n\u001B[0;32m     15\u001B[0m \u001B[38;5;28;01mclass\u001B[39;00m \u001B[38;5;21;01mActiveRotatedFilterFunction\u001B[39;00m(Function):\n\u001B[0;32m     16\u001B[0m     \u001B[38;5;124;03m\"\"\"Encoding the orientation information and generating orientation-\u001B[39;00m\n\u001B[0;32m     17\u001B[0m \u001B[38;5;124;03m    sensitive features.\u001B[39;00m\n\u001B[0;32m     18\u001B[0m \n\u001B[0;32m     19\u001B[0m \u001B[38;5;124;03m    The details are described in the paper `Align Deep Features for Oriented\u001B[39;00m\n\u001B[0;32m     20\u001B[0m \u001B[38;5;124;03m    Object Detection  <https://arxiv.org/abs/2008.09397>_`.\u001B[39;00m\n\u001B[0;32m     21\u001B[0m \u001B[38;5;124;03m    \"\"\"\u001B[39;00m\n",
      "File \u001B[1;32m~\\PycharmProjects\\ObjectDetection2\\venv\\lib\\site-packages\\mmcv\\utils\\ext_loader.py:15\u001B[0m, in \u001B[0;36mload_ext\u001B[1;34m(name, funcs)\u001B[0m\n\u001B[0;32m     13\u001B[0m ext \u001B[38;5;241m=\u001B[39m importlib\u001B[38;5;241m.\u001B[39mimport_module(\u001B[38;5;124m'\u001B[39m\u001B[38;5;124mmmcv.\u001B[39m\u001B[38;5;124m'\u001B[39m \u001B[38;5;241m+\u001B[39m name)\n\u001B[0;32m     14\u001B[0m \u001B[38;5;28;01mfor\u001B[39;00m fun \u001B[38;5;129;01min\u001B[39;00m funcs:\n\u001B[1;32m---> 15\u001B[0m     \u001B[38;5;28;01massert\u001B[39;00m \u001B[38;5;28mhasattr\u001B[39m(ext, fun), \u001B[38;5;124mf\u001B[39m\u001B[38;5;124m'\u001B[39m\u001B[38;5;132;01m{\u001B[39;00mfun\u001B[38;5;132;01m}\u001B[39;00m\u001B[38;5;124m miss in module \u001B[39m\u001B[38;5;132;01m{\u001B[39;00mname\u001B[38;5;132;01m}\u001B[39;00m\u001B[38;5;124m'\u001B[39m\n\u001B[0;32m     16\u001B[0m \u001B[38;5;28;01mreturn\u001B[39;00m ext\n",
      "\u001B[1;31mAssertionError\u001B[0m: active_rotated_filter_forward miss in module _ext"
     ]
    }
   ],
   "source": [
    "import mmcv\n",
    "from mmcv.runner import load_checkpoint\n",
    "from mmdetection.mmdet.models import build_detector\n",
    "\n",
    "# Choose to use a config and initialize the detector\n",
    "config = './mmdetection/configs/faster_rcnn/faster_rcnn_r50_caffe_fpn_mstrain_3x_coco.py'\n",
    "# Setup a checkpoint file to load\n",
    "checkpoint = './mmdetection/checkpoints/faster_rcnn_r50_caffe_fpn_mstrain_3x_coco_20210526_095054-1f77628b.pth'\n",
    "\n",
    "# Set the device to be used for evaluation\n",
    "device='cuda:0'\n",
    "\n",
    "# Load the config\n",
    "config = mmcv.Config.fromfile(config)\n",
    "# Set pretrained to be None since we do not need pretrained model here\n",
    "config.model.pretrained = None\n",
    "\n",
    "# Initialize the detector\n",
    "model = build_detector(config.model)\n",
    "\n",
    "# Load checkpoint\n",
    "checkpoint = load_checkpoint(model, checkpoint, map_location=device)\n",
    "\n",
    "# Set the classes of models for inference\n",
    "model.CLASSES = checkpoint['meta']['CLASSES']\n",
    "\n",
    "# We need to set the model's cfg for inference\n",
    "model.cfg = config\n",
    "\n",
    "# Convert the model to GPU\n",
    "model.to(device)\n",
    "# Convert the model into evaluation mode\n",
    "model.eval()"
   ],
   "metadata": {
    "collapsed": false,
    "pycharm": {
     "name": "#%%\n"
    }
   }
  },
  {
   "cell_type": "code",
   "execution_count": null,
   "outputs": [],
   "source": [],
   "metadata": {
    "collapsed": false,
    "pycharm": {
     "name": "#%%\n"
    }
   }
  }
 ],
 "metadata": {
  "kernelspec": {
   "name": "pycharm-3a9ceae2",
   "language": "python",
   "display_name": "PyCharm (objectdetection)"
  },
  "language_info": {
   "codemirror_mode": {
    "name": "ipython",
    "version": 2
   },
   "file_extension": ".py",
   "mimetype": "text/x-python",
   "name": "python",
   "nbconvert_exporter": "python",
   "pygments_lexer": "ipython2",
   "version": "2.7.6"
  }
 },
 "nbformat": 4,
 "nbformat_minor": 0
}